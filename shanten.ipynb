{
 "cells": [
  {
   "cell_type": "code",
   "execution_count": 11,
   "metadata": {},
   "outputs": [],
   "source": [
    "def pairs(suit_arr):\n",
    "    possible_pairs=[]\n",
    "\n",
    "    for i in range(9):\n",
    "        if suit_arr[i]>1:\n",
    "            out = [0]*9\n",
    "            out[i] = 2\n",
    "            possible_pairs.append(out)\n",
    "    return possible_pairs\n",
    "\n",
    "def triplets(suit_arr):\n",
    "    possible_triplets=[]\n",
    "\n",
    "    for i in range(9):\n",
    "        if suit_arr[i]>2:\n",
    "            out = [0]*9\n",
    "            out[i] = 3\n",
    "            possible_triplets.append(out)\n",
    "    return possible_triplets\n",
    "\n",
    "def complete_sequences(suit_arr):\n",
    "    possible_sequences=[]\n",
    "\n",
    "    for i in range(2,9):\n",
    "        if suit_arr[i]>0 and suit_arr[i-1]>0 and suit_arr[i-2]>0:\n",
    "            out = [0]*9\n",
    "            out[i]=1\n",
    "            out[i-1]=1\n",
    "            out[i-2]=1\n",
    "            possible_sequences.append(out)\n",
    "    return possible_sequences\n",
    "\n",
    "def incomplete_sequences(suit_arr):\n",
    "    possible_insequences=[]\n",
    "\n",
    "    if suit_arr[0]>0 and suit_arr[1]>0:\n",
    "        out = [0]*9\n",
    "        out[0]=1\n",
    "        out[1]=1\n",
    "        possible_insequences.append(out)\n",
    "\n",
    "\n",
    "    for i in range(2,9):\n",
    "        if suit_arr[i]>0 and suit_arr[i-1]>0:\n",
    "            out = [0]*9\n",
    "            out[i]=1\n",
    "            out[i-1]=1\n",
    "            possible_insequences.append(out)\n",
    "\n",
    "        if suit_arr[i]>0 and suit_arr[i-2]>0:\n",
    "            out = [0]*9\n",
    "            out[i]=1\n",
    "            out[i-2]=1\n",
    "            possible_insequences.append(out)\n",
    " \n",
    "    return possible_insequences"
   ]
  },
  {
   "cell_type": "code",
   "execution_count": 12,
   "metadata": {},
   "outputs": [],
   "source": [
    "def resulting_hand(arr1,arr2):\n",
    "    out=[0]*9\n",
    "    for i in range(9):\n",
    "        out[i] = arr1[i] - arr2[i]\n",
    "    return out"
   ]
  },
  {
   "cell_type": "code",
   "execution_count": 20,
   "metadata": {},
   "outputs": [],
   "source": [
    "def shanten_nogroups(hand):\n",
    "    set_insequences = incomplete_sequences(hand)\n",
    "    current_shan=0\n",
    "\n",
    "    for i in set_insequences:\n",
    "        current = shanten_nogroups(resulting_hand(hand, i))-1\n",
    "        if current < current_shan:\n",
    "            current_shan = current\n",
    "    return current_shan"
   ]
  },
  {
   "cell_type": "code",
   "execution_count": 26,
   "metadata": {},
   "outputs": [],
   "source": [
    "def shanten(hand):\n",
    "    current_shanten=0\n",
    "\n",
    "    set_pairs = pairs(hand)\n",
    "    set_seq = complete_sequences(hand)\n",
    "    set_triplets = triplets(hand)\n",
    "\n",
    "    if len(set_seq) == 0  and len(set_triplets) == 0:\n",
    "        current_shanten += shanten_nogroups(hand)\n",
    "\n",
    "    for j in set_seq:\n",
    "        current = shanten(resulting_hand(hand, j))+2\n",
    "        if current>current_shanten:\n",
    "            current_shanten = current\n",
    "\n",
    "    for j in set_triplets:\n",
    "        current = shanten(resulting_hand(hand, j))+2\n",
    "        if current>current_shanten:\n",
    "            current_shanten = current\n",
    "        \n",
    "    return current_shanten"
   ]
  },
  {
   "cell_type": "code",
   "execution_count": 29,
   "metadata": {},
   "outputs": [],
   "source": [
    "def shanten_honours(hand):\n",
    "    current_shanten=0\n",
    "\n",
    "    for i in range(hand):\n",
    "        if i > 2:\n",
    "            current_shanten += 2\n",
    "        if i == 2:\n",
    "            current_shanten += 1\n",
    "    \n",
    "    return current_shanten"
   ]
  },
  {
   "cell_type": "code",
   "execution_count": 30,
   "metadata": {},
   "outputs": [],
   "source": [
    "def shanten_overall(hand):\n",
    "    shanten_total = shanten(hand[0]) + shanten(hand[1]) + shanten(hand[2]) + shanten_honours(hand[3])\n",
    "    return 8 - shanten_total"
   ]
  }
 ],
 "metadata": {
  "kernelspec": {
   "display_name": "Python 3",
   "language": "python",
   "name": "python3"
  },
  "language_info": {
   "codemirror_mode": {
    "name": "ipython",
    "version": 3
   },
   "file_extension": ".py",
   "mimetype": "text/x-python",
   "name": "python",
   "nbconvert_exporter": "python",
   "pygments_lexer": "ipython3",
   "version": "3.11.8"
  }
 },
 "nbformat": 4,
 "nbformat_minor": 2
}
